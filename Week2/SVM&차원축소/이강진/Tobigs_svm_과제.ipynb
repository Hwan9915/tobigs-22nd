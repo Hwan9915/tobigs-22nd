{
 "cells": [
  {
   "cell_type": "code",
   "execution_count": 1,
   "metadata": {},
   "outputs": [],
   "source": [
    "import time\n",
    "import numpy as np\n",
    "import pandas as pd\n",
    "import matplotlib.pyplot as plt\n",
    "from sklearn import datasets\n",
    "from sklearn.model_selection import train_test_split\n",
    "from sklearn.preprocessing import StandardScaler\n",
    "from sklearn.metrics import accuracy_score\n",
    "import warnings\n",
    "warnings.filterwarnings('ignore')"
   ]
  },
  {
   "cell_type": "code",
   "execution_count": 2,
   "metadata": {},
   "outputs": [],
   "source": [
    "# MNIST 데이터셋 다운로드 (1분 가량 소요)\n",
    "mnist = datasets.fetch_openml('mnist_784', version=1)"
   ]
  },
  {
   "cell_type": "code",
   "execution_count": 3,
   "metadata": {},
   "outputs": [
    {
     "data": {
      "text/plain": [
       "((56000, 784), (14000, 784), (56000,), (14000,))"
      ]
     },
     "execution_count": 3,
     "metadata": {},
     "output_type": "execute_result"
    }
   ],
   "source": [
    "X, y = mnist.data, mnist.target\n",
    "y = y.apply(int)\n",
    "\n",
    "# 데이터 분할 및 스케일링\n",
    "X_train, X_test, y_train, y_test = train_test_split(X, y, test_size=0.2, random_state=42, stratify=y)\n",
    "\n",
    "scaler = StandardScaler()\n",
    "X_train = scaler.fit_transform(X_train)\n",
    "X_test = scaler.transform(X_test)\n",
    "\n",
    "X_train.shape, X_test.shape, y_train.shape, y_test.shape"
   ]
  },
  {
   "cell_type": "code",
   "execution_count": 4,
   "metadata": {},
   "outputs": [
    {
     "data": {
      "text/plain": [
       "((10763, 784), (2691, 784), (10763,), (2691,))"
      ]
     },
     "execution_count": 4,
     "metadata": {},
     "output_type": "execute_result"
    }
   ],
   "source": [
    "# 이진 분류용 훈련 데이터 준비\n",
    "def prepare_binary_classification_data(X, y, label1, label2):\n",
    "    binary_index = (y == label1) | (y == label2)\n",
    "    X_binary = X[binary_index]\n",
    "    y_binary = y[binary_index]\n",
    "    y_map = {label1: -1, label2: 1}\n",
    "    y_binary = np.array([y_map[label] for label in y_binary])\n",
    "    return X_binary, y_binary\n",
    "\n",
    "X_train_binary, y_train_binary = prepare_binary_classification_data(X_train, y_train, 3, 5)\n",
    "X_test_binary, y_test_binary = prepare_binary_classification_data(X_test, y_test, 3, 5)\n",
    "\n",
    "X_train_binary.shape, X_test_binary.shape, y_train_binary.shape, y_test_binary.shape"
   ]
  },
  {
   "cell_type": "code",
   "execution_count": 5,
   "metadata": {},
   "outputs": [
    {
     "data": {
      "image/png": "[encoded data removed]",
      "text/plain": [
       "<Figure size 1080x720 with 30 Axes>"
      ]
     },
     "metadata": {
      "needs_background": "light"
     },
     "output_type": "display_data"
    }
   ],
   "source": [
    "# 데이터 시각화 \n",
    "n_classes = 10\n",
    "n_samples_per_class = 3\n",
    "samples_per_class = {i: [] for i in range(n_classes)}\n",
    "\n",
    "for digit in range(n_classes):\n",
    "    digit_indices = np.where(y == digit)[0]\n",
    "    selected_indices = np.random.choice(digit_indices, n_samples_per_class, replace=False)\n",
    "    samples_per_class[digit] = selected_indices\n",
    "\n",
    "plt.figure(figsize=(15, 10))\n",
    "for digit in range(n_classes):\n",
    "    for i in range(n_samples_per_class):\n",
    "        idx = samples_per_class[digit][i]\n",
    "        \n",
    "        plt.subplot(n_samples_per_class, n_classes, i * n_classes + digit + 1)\n",
    "        plt.imshow(X.iloc[idx].values.reshape(28, 28), cmap='gray')\n",
    "        if i == 0:\n",
    "            plt.title(f\"Digit: {digit}\")\n",
    "        plt.axis('off')\n",
    "\n",
    "plt.tight_layout()\n",
    "plt.show()"
   ]
  },
  {
   "cell_type": "markdown",
   "metadata": {},
   "source": [
    "## 1. SVM from scratch\n",
    "\n",
    "fit 함수의 가중치 업데이트 부분을 채워주세요! 가중치 업데이트 이외의 코드는 수정하면 안됩니다.\n",
    "\n",
    "조건: 분류 정확도 0.9 이상\n",
    "\n",
    "참고자료: https://towardsdatascience.com/support-vector-machine-introduction-to-machine-learning-algorithms-934a444fca47"
   ]
  },
  {
   "cell_type": "code",
   "execution_count": 10,
   "metadata": {},
   "outputs": [],
   "source": [
    "class SVMClassifier:\n",
    "    def __init__(self, learning_rate=0.001, lambda_param=0.01, n_iters=1000):\n",
    "        # 이 부분은 수정하시면 안됩니다.\n",
    "        self.learning_rate = learning_rate\n",
    "        self.lambda_param = lambda_param\n",
    "        self.n_iters = n_iters\n",
    "        self.w = None\n",
    "        self.b = None\n",
    "        self.label_map = None\n",
    "        self.inverse_label_map = None\n",
    "\n",
    "    def fit(self, X, y):\n",
    "        # 이 부분은 수정하시면 안됩니다.\n",
    "        unique_labels = np.unique(y)\n",
    "        if len(unique_labels) != 2:\n",
    "            raise ValueError(\"This SVM implementation supports only binary classification.\")\n",
    "\n",
    "        self.label_map = {unique_labels[0]: -1, unique_labels[1]: 1}\n",
    "        self.inverse_label_map = {-1: unique_labels[0], 1: unique_labels[1]}\n",
    "        \n",
    "        y_ = np.array([self.label_map[label] for label in y])\n",
    "        \n",
    "        n_samples, n_features = X.shape\n",
    "        self.w = np.zeros(n_features)\n",
    "        self.b = 0\n",
    "\n",
    "\n",
    "        # 이 부분을 채워주세요.\n",
    "        for _ in range(self.n_iters):\n",
    "            for idx, x_i in enumerate(X):\n",
    "                condition = (np.dot(x_i, self.w)+self.b) * y_[idx] >= 1 \n",
    "                if condition:\n",
    "                    self.w -= self.learning_rate * (2 * self.lambda_param * self.w)\n",
    "                else:\n",
    "                    self.w -= self.learning_rate * (-y_[idx]*x_i + 2 * self.lambda_param * self.w)\n",
    "                    self.b += self.learning_rate * y_[idx]\n",
    "\n",
    "\n",
    "    def predict(self, X):\n",
    "        y_pred = np.dot(X, self.w)\n",
    "        predictions = [self.inverse_label_map[1] if val >= 0.9 else self.inverse_label_map[-1] for val in y_pred]\n",
    "        return predictions"
   ]
  },
  {
   "cell_type": "code",
   "execution_count": 11,
   "metadata": {},
   "outputs": [
    {
     "name": "stdout",
     "output_type": "stream",
     "text": [
      "Accuracy: 0.9498327759197325\n",
      "Fitting time: 115.85747528076172 seconds\n",
      "Prediction Time: 0.00196075439453125 seconds\n"
     ]
    }
   ],
   "source": [
    "svm = SVMClassifier()\n",
    "\n",
    "fit_start = time.time()\n",
    "svm.fit(X_train_binary, y_train_binary)\n",
    "fit_end = time.time()\n",
    "\n",
    "pred_start = time.time()\n",
    "pred = svm.predict(X_test_binary)\n",
    "pred_end = time.time()\n",
    "\n",
    "print(f\"Accuracy: {accuracy_score(y_test_binary, pred)}\")\n",
    "print(f\"Fitting time: {fit_end - fit_start} seconds\")\n",
    "print(f\"Prediction Time: {pred_end - pred_start} seconds\")"
   ]
  },
  {
   "cell_type": "markdown",
   "metadata": {},
   "source": [
    "## 2. Dimensionality Reduction\n",
    "\n",
    "PCA와 LDA를 활용하여 데이터 차원을 축소한 뒤, 모델 학습을 진행해주세요!"
   ]
  },
  {
   "cell_type": "markdown",
   "metadata": {},
   "source": [
    "PCA 적용하기"
   ]
  },
  {
   "cell_type": "code",
   "execution_count": 12,
   "metadata": {},
   "outputs": [
    {
     "name": "stdout",
     "output_type": "stream",
     "text": [
      "(10763, 2) (2691, 2)\n",
      "Accuracy: 0.5306577480490524\n",
      "Fitting time: 200.31462931632996 seconds\n",
      "Prediction Time: 0.0010001659393310547 seconds\n"
     ]
    }
   ],
   "source": [
    "from sklearn.decomposition import PCA\n",
    "\n",
    "# PCA를 사용하여 X_train_binary의 차원을 축소해주세요.\n",
    "\n",
    "pca = PCA(n_components=2)\n",
    "pca.fit(X_train_binary)\n",
    "X_train_pca = pca.transform(X_train_binary) #### PCA를 사용하여 X_train_binary의 차원을 축소해주세요 ####\n",
    "pca.fit(X_test_binary)\n",
    "X_test_pca = pca.transform(X_test_binary) #### PCA를 사용하여 X_test_binary의 차원을 축소해주세요 ####\n",
    "\n",
    "print(X_train_pca.shape, X_test_pca.shape)\n",
    "\n",
    "svm = SVMClassifier()\n",
    "fit_start = time.time()\n",
    "svm.fit(X_train_pca, y_train_binary)\n",
    "fit_end = time.time()\n",
    "\n",
    "pred_start = time.time()\n",
    "pred = svm.predict(X_test_pca)\n",
    "pred_end = time.time()\n",
    "\n",
    "print(f\"Accuracy: {accuracy_score(y_test_binary, pred)}\")\n",
    "print(f\"Fitting time: {fit_end - fit_start} seconds\")\n",
    "print(f\"Prediction Time: {pred_end - pred_start} seconds\")"
   ]
  },
  {
   "cell_type": "markdown",
   "metadata": {},
   "source": [
    "LDA 적용하기"
   ]
  },
  {
   "cell_type": "code",
   "execution_count": 13,
   "metadata": {},
   "outputs": [
    {
     "name": "stdout",
     "output_type": "stream",
     "text": [
      "(10763, 1) (2691, 1)\n",
      "Accuracy: 0.9594946116685247\n",
      "Fitting time: 184.50563502311707 seconds\n",
      "Prediction Time: 0.0009996891021728516 seconds\n"
     ]
    }
   ],
   "source": [
    "from sklearn.discriminant_analysis import LinearDiscriminantAnalysis\n",
    "\n",
    "lda = LinearDiscriminantAnalysis()\n",
    "lda.fit(X_train_binary, y_train_binary)\n",
    "X_train_lda = lda.transform(X_train_binary) #### LDA를 사용하여 X_train_binary의 차원을 축소해주세요 ####\n",
    "lda.fit(X_test_binary, y_test_binary)\n",
    "X_test_lda = lda.transform(X_test_binary)#### LDA를 사용하여 X_test_binary의 차원을 축소해주세요 ####\n",
    "\n",
    "print(X_train_lda.shape, X_test_lda.shape)\n",
    "\n",
    "svm = SVMClassifier()\n",
    "fit_start = time.time()\n",
    "svm.fit(X_train_lda, y_train_binary)\n",
    "fit_end = time.time()\n",
    "\n",
    "pred_start = time.time()\n",
    "pred = svm.predict(X_test_lda)\n",
    "pred_end = time.time()\n",
    "\n",
    "print(f\"Accuracy: {accuracy_score(y_test_binary, pred)}\")\n",
    "print(f\"Fitting time: {fit_end - fit_start} seconds\")\n",
    "print(f\"Prediction Time: {pred_end - pred_start} seconds\")"
   ]
  },
  {
   "cell_type": "markdown",
   "metadata": {},
   "source": [
    "## 3. Multiclass SVM\n",
    "\n",
    "OvO (One vs One) 방법론을 사용하여 Multiclass svm classifier를 구현해주세요!"
   ]
  },
  {
   "cell_type": "code",
   "execution_count": 14,
   "metadata": {},
   "outputs": [
    {
     "data": {
      "text/plain": [
       "((560, 784), (140, 784), (560,), (140,))"
      ]
     },
     "execution_count": 14,
     "metadata": {},
     "output_type": "execute_result"
    }
   ],
   "source": [
    "# 학습 효율성을 위해 데이터셋의 일부만 사용\n",
    "mnist_df = pd.concat([mnist.data, mnist.target], axis=1)\n",
    "mnist_df = mnist_df.groupby('class').apply(lambda x: x.sample(frac=0.01, random_state=42)).reset_index(drop=True)\n",
    "\n",
    "X, y = mnist_df.drop('class', axis=1), mnist_df['class']\n",
    "y = y.apply(int)\n",
    "\n",
    "# 데이터 분할 및 스케일링\n",
    "X_train, X_test, y_train, y_test = train_test_split(X, y, test_size=0.2, random_state=42, stratify=y)\n",
    "\n",
    "scaler = StandardScaler()\n",
    "X_train = scaler.fit_transform(X_train)\n",
    "X_test = scaler.transform(X_test)\n",
    "\n",
    "X_train.shape, X_test.shape, y_train.shape, y_test.shape"
   ]
  },
  {
   "cell_type": "code",
   "execution_count": 15,
   "metadata": {},
   "outputs": [
    {
     "data": {
      "text/plain": [
       "[9, 6, 1, 3, 7, 5, 8, 2, 4, 0]\n",
       "Categories (10, int64): [9, 6, 1, 3, ..., 8, 2, 4, 0]"
      ]
     },
     "execution_count": 15,
     "metadata": {},
     "output_type": "execute_result"
    }
   ],
   "source": [
    "y_train.unique()"
   ]
  },
  {
   "cell_type": "code",
   "execution_count": 18,
   "metadata": {},
   "outputs": [],
   "source": [
    "class MulticlassSVM:\n",
    "    def __init__(self, learning_rate=0.001, lambda_param=0.01, n_iters=1000):\n",
    "        self.learning_rate = learning_rate\n",
    "        self.lambda_param = lambda_param\n",
    "        self.n_iters = n_iters\n",
    "        self.models = []\n",
    "        self.class_pairs = []\n",
    "\n",
    "    def fit(self, X, y):\n",
    "        y = np.asarray(y)  # Convert y to numpy array if it's a pandas Series\n",
    "        unique_classes = np.unique(y)\n",
    "        self.class_pairs = [(i, j) for i in unique_classes for j in unique_classes if i < j]\n",
    "        \n",
    "        for class_i, class_j in self.class_pairs:\n",
    "            mask = (y == class_i) | (y == class_j)\n",
    "            X_subset = X[mask]\n",
    "            y_subset = y[mask]\n",
    "            y_subset = np.where(y_subset == class_j, 1, -1)  # Update labels for binary classification\n",
    "            \n",
    "            # 이진 SVM 모델 학습\n",
    "            model = SVMClassifier(learning_rate=self.learning_rate, lambda_param=self.lambda_param, n_iters=self.n_iters)\n",
    "            model.fit(X_subset, y_subset)\n",
    "            self.models.append(model)\n",
    "\n",
    "    def predict(self, X):\n",
    "        num_samples = X.shape[0]\n",
    "        votes = np.zeros((num_samples, len(np.unique(y))))\n",
    "\n",
    "        for (class_i, class_j), model in zip(self.class_pairs, self.models):\n",
    "            predictions = model.predict(X)\n",
    "            votes[predictions == 1, class_i] += 1\n",
    "            votes[predictions == -1, class_j] += 1\n",
    "        \n",
    "        final_predictions = np.argmax(votes, axis=1)\n",
    "        return final_predictions"
   ]
  },
  {
   "cell_type": "code",
   "execution_count": 19,
   "metadata": {},
   "outputs": [
    {
     "name": "stdout",
     "output_type": "stream",
     "text": [
      "Accuracy: 0.10\n"
     ]
    }
   ],
   "source": [
    "multiclass_svm = MulticlassSVM(learning_rate=0.001, lambda_param=0.01, n_iters=1000)\n",
    "multiclass_svm.fit(X_train, y_train)\n",
    "y_pred = multiclass_svm.predict(X_test)\n",
    "\n",
    "# 정확도 출력\n",
    "accuracy = np.mean(y_pred == y_test)\n",
    "print(f'Accuracy: {accuracy:.2f}')"
   ]
  },
  {
   "cell_type": "code",
   "execution_count": null,
   "metadata": {},
   "outputs": [],
   "source": []
  }
 ],
 "metadata": {
  "kernelspec": {
   "display_name": "Python 3",
   "language": "python",
   "name": "python3"
  },
  "language_info": {
   "codemirror_mode": {
    "name": "ipython",
    "version": 3
   },
   "file_extension": ".py",
   "mimetype": "text/x-python",
   "name": "python",
   "nbconvert_exporter": "python",
   "pygments_lexer": "ipython3",
   "version": "3.8.5"
  }
 },
 "nbformat": 4,
 "nbformat_minor": 5
}
